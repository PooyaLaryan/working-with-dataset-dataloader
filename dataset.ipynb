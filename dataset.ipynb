{
 "cells": [
  {
   "cell_type": "code",
   "execution_count": null,
   "id": "a48cedab",
   "metadata": {},
   "outputs": [],
   "source": [
    "from torch.utils.data import Dataset, DataLoader\n",
    "import numpy as np"
   ]
  },
  {
   "cell_type": "code",
   "execution_count": 3,
   "id": "85fbbae0",
   "metadata": {},
   "outputs": [],
   "source": [
    "class CustomDataset(Dataset):\n",
    "    def __init__(self, data):\n",
    "        self.data = data\n",
    "        super().__init__()\n",
    "    \n",
    "    def __len__(self):\n",
    "        return len(self.data)\n",
    "\n",
    "    def __getitem__(self, index):\n",
    "        return self.data[index]"
   ]
  },
  {
   "cell_type": "code",
   "execution_count": 5,
   "id": "11c8c0bd",
   "metadata": {},
   "outputs": [
    {
     "data": {
      "text/plain": [
       "array([0.12500037, 0.76677033, 0.40743669, 0.43064311, 0.24239667,\n",
       "       0.75515593, 0.89921703, 0.56382976, 0.07083872, 0.38053327,\n",
       "       0.95433041, 0.95664926, 0.60186715, 0.12091195, 0.30209559,\n",
       "       0.51280673, 0.37139615, 0.30733077, 0.6046184 , 0.43917572,\n",
       "       0.9420261 , 0.24144718, 0.48263989, 0.15644263, 0.11025046,\n",
       "       0.6152888 , 0.35390637, 0.50192501, 0.34977873, 0.72226954,\n",
       "       0.66428309, 0.39548716, 0.63416294, 0.30681566, 0.72258099,\n",
       "       0.73952278, 0.11210866, 0.35898481, 0.86335306, 0.50712426,\n",
       "       0.35112193, 0.3449774 , 0.34322576, 0.78930032, 0.95937833,\n",
       "       0.35126407, 0.48183571, 0.47103587, 0.20890367, 0.3264118 ,\n",
       "       0.85383777, 0.50953186, 0.83454759, 0.79957968, 0.65969039,\n",
       "       0.98013407, 0.78989753, 0.85917059, 0.04846809, 0.90448983,\n",
       "       0.37318827, 0.14774784, 0.33547349, 0.54428975, 0.13239942,\n",
       "       0.01953783, 0.83907601, 0.98074493, 0.79920605, 0.14815535,\n",
       "       0.39991241, 0.69663103, 0.26025092, 0.2335196 , 0.26840297,\n",
       "       0.01051488, 0.23588375, 0.6624376 , 0.84932338, 0.9805238 ,\n",
       "       0.0633557 , 0.78785471, 0.74651349, 0.01269477, 0.64320511,\n",
       "       0.26585219, 0.91312603, 0.27742927, 0.03438046, 0.32873269,\n",
       "       0.46076551, 0.25519957, 0.13784888, 0.76986854, 0.72466663,\n",
       "       0.43325555, 0.06434272, 0.81497281, 0.35315426, 0.1834856 ])"
      ]
     },
     "execution_count": 5,
     "metadata": {},
     "output_type": "execute_result"
    }
   ],
   "source": [
    "data = np.random.random(100)\n",
    "data"
   ]
  },
  {
   "cell_type": "code",
   "execution_count": 9,
   "id": "3374e2f5",
   "metadata": {},
   "outputs": [],
   "source": [
    "cd =CustomDataset(data)"
   ]
  },
  {
   "cell_type": "code",
   "execution_count": null,
   "id": "49f3fc25",
   "metadata": {},
   "outputs": [],
   "source": [
    "dataloader = DataLoader(cd, batch_size=32, shuffle=False)"
   ]
  },
  {
   "cell_type": "code",
   "execution_count": 12,
   "id": "ba1b1ca0",
   "metadata": {},
   "outputs": [
    {
     "name": "stdout",
     "output_type": "stream",
     "text": [
      "torch.Size([32])\n",
      "torch.Size([32])\n",
      "torch.Size([32])\n",
      "torch.Size([4])\n"
     ]
    }
   ],
   "source": [
    "for i in dataloader:\n",
    "    print(i.shape)"
   ]
  }
 ],
 "metadata": {
  "kernelspec": {
   "display_name": "Python 3",
   "language": "python",
   "name": "python3"
  },
  "language_info": {
   "codemirror_mode": {
    "name": "ipython",
    "version": 3
   },
   "file_extension": ".py",
   "mimetype": "text/x-python",
   "name": "python",
   "nbconvert_exporter": "python",
   "pygments_lexer": "ipython3",
   "version": "3.12.6"
  }
 },
 "nbformat": 4,
 "nbformat_minor": 5
}
